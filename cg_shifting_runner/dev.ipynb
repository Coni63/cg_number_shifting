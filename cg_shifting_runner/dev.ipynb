{
 "cells": [
  {
   "cell_type": "code",
   "execution_count": 1,
   "metadata": {},
   "outputs": [],
   "source": [
    "import os\n",
    "import io\n",
    "import requests\n",
    "import subprocess\n",
    "from dotenv import load_dotenv\n",
    "\n",
    "load_dotenv()\n",
    "\n",
    "program_execute = \"python foo.py\"\n",
    "cookie = os.environ.get(\"COOKIE_REMEMBERME\")\n",
    "user_id = os.environ.get(\"USER_ID\")"
   ]
  },
  {
   "cell_type": "code",
   "execution_count": 2,
   "metadata": {},
   "outputs": [
    {
     "data": {
      "text/plain": [
       "Cookie(version=0, name='rememberMe', value='2708818282b2c7e03bdfb133aa3ff77ef501c6', port=None, port_specified=False, domain='codingame.com', domain_specified=True, domain_initial_dot=False, path='/', path_specified=True, secure=False, expires=None, discard=True, comment=None, comment_url=None, rest={'HttpOnly': None}, rfc2109=False)"
      ]
     },
     "execution_count": 2,
     "metadata": {},
     "output_type": "execute_result"
    }
   ],
   "source": [
    "session = requests.Session()\n",
    "session.cookies.set(\"rememberMe\", cookie, domain=\"codingame.com\")"
   ]
  },
  {
   "cell_type": "code",
   "execution_count": 3,
   "metadata": {},
   "outputs": [],
   "source": [
    "r = session.post(\n",
    "    \"https://www.codingame.com/services/Puzzle/generateSessionFromPuzzlePrettyId\",\n",
    "    json=[user_id, \"number-shifting\", False],\n",
    ")\n",
    "handle = r.json()[\"handle\"]"
   ]
  },
  {
   "cell_type": "code",
   "execution_count": 4,
   "metadata": {},
   "outputs": [
    {
     "data": {
      "text/plain": [
       "{'reportReady': False,\n",
       " 'handle': '50588494412ecd7bd6e2b1a2a7c5a14b18ed7b27',\n",
       " 'direct': False}"
      ]
     },
     "execution_count": 4,
     "metadata": {},
     "output_type": "execute_result"
    }
   ],
   "source": [
    "r.json()"
   ]
  },
  {
   "cell_type": "code",
   "execution_count": 5,
   "metadata": {},
   "outputs": [],
   "source": [
    "with open(\"level_password.txt\", \"r\") as f:\n",
    "    level_pass = f.read().strip()\n",
    "with open(\"solution.txt\", \"r\") as f:\n",
    "    solution = f.read().strip()"
   ]
  },
  {
   "cell_type": "code",
   "execution_count": 6,
   "metadata": {},
   "outputs": [],
   "source": [
    "solution = level_pass + '\\n' + solution"
   ]
  },
  {
   "cell_type": "code",
   "execution_count": 7,
   "metadata": {},
   "outputs": [
    {
     "data": {
      "text/plain": [
       "'first_level\\n7 4 L +\\n3 0 D -\\n6 4 L -'"
      ]
     },
     "execution_count": 7,
     "metadata": {},
     "output_type": "execute_result"
    }
   ],
   "source": [
    "solution"
   ]
  },
  {
   "cell_type": "code",
   "execution_count": 8,
   "metadata": {},
   "outputs": [],
   "source": [
    "r = session.post(\n",
    "    \"https://www.codingame.com/services/TestSession/play\",\n",
    "    json=[\n",
    "        handle,\n",
    "        {\n",
    "            \"code\": solution,\n",
    "            \"programmingLanguageId\": \"PHP\",\n",
    "            \"multipleLanguages\": {\"testIndex\": 1},\n",
    "        },\n",
    "    ],\n",
    ")"
   ]
  },
  {
   "cell_type": "code",
   "execution_count": 11,
   "metadata": {},
   "outputs": [],
   "source": [
    "data = r.json()"
   ]
  },
  {
   "cell_type": "code",
   "execution_count": 12,
   "metadata": {},
   "outputs": [
    {
     "data": {
      "text/plain": [
       "{'frames': [{'gameInformation': '',\n",
       "   'view': ' 0\\n{\"global\":{\"entitymodule\":{\"width\":1920,\"height\":1080}},\"frame\":{\"duration\":1,\"entitymodule\":\"CR\\\\nU1 1 f 3355443 w 1920 v 1 h 1080\"}}\\n',\n",
       "   'keyframe': True},\n",
       "  {'gameInformation': '',\n",
       "   'stdout': 'first_level\\n',\n",
       "   'view': ' 1\\n{\"entitymodule\":\"CG;R;L;L;L;L;L;L;L;L;L;L;L;L;L;L;L;G;R;T;G;R;T;G;R;T;G;R;T\\\\nU3 0 f 12303325 w 1664 v 1 h 1040;5 0 v 1 x 208 y 0 Y 1040 X 208 c 11184832 W 1;6 0 v 1 x 416 y 0 Y 1040 X 416 c 11184832 W 1;21 0 ay 0.5 v 1 ax 0.5 x 104 y 104 s 138 T 4;17 0 v 1 x 0 y 832 Y 832 X 1664 c 11184832 W 1;24 0 ay 0.5 v 1 ax 0.5 x 104 y 104 s 138 T 1;25 0 x 1248 y 832 v 1 ch 26,27;14 0 v 1 x 0 y 208 Y 208 X 1664 c 11184832 W 1;19 0 x 624 y 0 v 1 ch 21,20;13 0 v 1 x 0 y 0 Y 0 X 1664 c 11184832 W 1;28 0 x 1456 y 832 v 1 ch 29,30;4 0 v 1 x 0 y 0 Y 1040 X 0 c 11184832 W 1;18 0 v 1 x 0 y 1040 Y 1040 X 1664 c 11184832 W 1;11 0 v 1 x 1456 y 0 Y 1040 X 1456 c 11184832 W 1;2 0 x 128 y 20 v 1 ch 3,5,9,10,6,15,17,25,14,19,12,13,28,4,8,7,18,11,16,22;22 0 x 624 y 832 v 1 ch 23,24;30 0 ay 0.5 v 1 ax 0.5 x 104 y 104 s 138 T 1;9 0 v 1 x 1040 y 0 Y 1040 X 1040 c 11184832 W 1;10 0 v 1 x 1248 y 0 Y 1040 X 1248 c 11184832 W 1;15 0 v 1 x 0 y 416 Y 416 X 1664 c 11184832 W 1;26 0 f 14540287 v 1 w 208 c 1908013 W 5 h 208;20 0 f 14540287 v 1 w 208 c 1908013 W 5 h 208;27 0 ay 0.5 v 1 ax 0.5 x 104 y 104 s 138 T 2;12 0 v 1 x 1664 y 0 Y 1040 X 1664 c 11184832 W 1;29 0 f 14540287 v 1 w 208 c 1908013 W 5 h 208;8 0 v 1 x 832 y 0 Y 1040 X 832 c 11184832 W 1;7 0 v 1 x 624 y 0 Y 1040 X 624 c 11184832 W 1;23 0 f 14540287 v 1 w 208 c 1908013 W 5 h 208;16 0 v 1 x 0 y 624 Y 624 X 1664 c 11184832 W 1\"}\\n',\n",
       "   'keyframe': True},\n",
       "  {'gameInformation': '',\n",
       "   'stdout': '7 4 L +\\n',\n",
       "   'view': ' 2\\n{\"duration\":1000,\"entitymodule\":\"CG;R;T\\\\nU28 0 z 2;32 0 f 12311995 v 1 w 68 c 0 W 2 h 68;33 0 ay 0.5 v 1 ax 0.5 x 34 y 34 s 45 T +;25 0 ch 26,31,27 z 1;31 0 x 157 y -17 v 1 ch 32,33 z 2;31 0.8;28 1 a 0 x 1248 ∫;25 1 z 0;31 1 a 0;27 1 T 3\"}\\n',\n",
       "   'keyframe': True},\n",
       "  {'gameInformation': '',\n",
       "   'stdout': '3 0 D -\\n',\n",
       "   'view': ' 3\\n{\"entitymodule\":\"CG;R;T\\\\nU36 0 ay 0.5 v 1 ax 0.5 x 34 y 34 s 45 T -;35 0 f 12311995 v 1 w 68 c 0 W 2 h 68;19 0 z 2;22 0 ch 23,24,34 z 1;34 0 x 157 y -17 v 1 ch 35,36 z 2;34 0.8;24 1 T 3;19 1 a 0 y 832 ∫;22 1 z 0;34 1 a 0\"}\\n',\n",
       "   'keyframe': True},\n",
       "  {'gameInformation': 'Code for next level (level 2): pmkhklcgypoivqgfzyyuvmtsywegacwu\\n8 5\\n0 0 0 0 0 0 0 0\\n0 0 0 0 0 0 0 0\\n0 0 0 0 2 0 0 0\\n0 0 0 0 0 0 0 0\\n11 0 0 0 6 0 0 7\\n',\n",
       "   'stdout': '6 4 L -\\n',\n",
       "   'view': ' 4\\n{\"entitymodule\":\"CG;R;T;R\\\\nU25 0 z 2;39 0 ay 0.5 v 1 ax 0.5 x 34 y 34 s 45 T -;22 0 ch 23,24,34,37 z 1;37 0 x 157 y -17 v 1 ch 39,38 z 2;38 0 f 12311995 v 1 w 68 c 0 W 2 h 68;37 0.8;40 1 f 3355443 w 1920 v 1 h 1080;24 1 T 0;25 1 a 0 x 624 ∫;22 1 a 0 z 0;37 1 a 0\"}\\n',\n",
       "   'keyframe': True},\n",
       "  {'gameInformation': '',\n",
       "   'stdout': '',\n",
       "   'view': ' 5\\n{\"entitymodule\":\"\"}\\n',\n",
       "   'keyframe': True}],\n",
       " 'gameId': 775040345,\n",
       " 'scores': [1.0],\n",
       " 'metadata': {'Level': 1.0},\n",
       " 'outputTooSoon': {'0': 1}}"
      ]
     },
     "execution_count": 12,
     "metadata": {},
     "output_type": "execute_result"
    }
   ],
   "source": [
    "data"
   ]
  },
  {
   "cell_type": "code",
   "execution_count": 21,
   "metadata": {},
   "outputs": [
    {
     "name": "stdout",
     "output_type": "stream",
     "text": [
      "pmkhklcgypoivqgfzyyuvmtsywegacwu 2\n"
     ]
    }
   ],
   "source": [
    "for frame in data[\"frames\"]:\n",
    "    if \"Code for next level\" in frame.get(\"gameInformation\", \"\"):\n",
    "        game_info = frame.get(\"gameInformation\", \"\")\n",
    "        level_password = game_info.split(\"\\n\")[0].split(\":\")[1].strip()\n",
    "        level_data = game_info.split(\"\\n\", 1)[1]\n",
    "        number_level = 1 + int(data[\"metadata\"][\"Level\"])\n",
    "        print(level_password, number_level)\n",
    "        break\n",
    "        # number_level = int(1 + r.json()[\"metadata\"][\"Level\"])"
   ]
  },
  {
   "cell_type": "code",
   "execution_count": 17,
   "metadata": {},
   "outputs": [
    {
     "data": {
      "text/plain": [
       "'8 5\\n0 0 0 0 0 0 0 0\\n0 0 0 0 0 0 0 0\\n0 0 0 0 2 0 0 0\\n0 0 0 0 0 0 0 0\\n11 0 0 0 6 0 0 7\\n'"
      ]
     },
     "execution_count": 17,
     "metadata": {},
     "output_type": "execute_result"
    }
   ],
   "source": [
    "game_info.split(\"\\n\", 1)[1]"
   ]
  },
  {
   "cell_type": "code",
   "execution_count": null,
   "metadata": {},
   "outputs": [],
   "source": []
  }
 ],
 "metadata": {
  "kernelspec": {
   "display_name": ".venv",
   "language": "python",
   "name": "python3"
  },
  "language_info": {
   "codemirror_mode": {
    "name": "ipython",
    "version": 3
   },
   "file_extension": ".py",
   "mimetype": "text/x-python",
   "name": "python",
   "nbconvert_exporter": "python",
   "pygments_lexer": "ipython3",
   "version": "3.10.11"
  }
 },
 "nbformat": 4,
 "nbformat_minor": 2
}
